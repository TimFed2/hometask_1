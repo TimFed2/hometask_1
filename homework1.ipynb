{
 "cells": [
  {
   "cell_type": "code",
   "execution_count": 3,
   "metadata": {},
   "outputs": [
    {
     "name": "stdout",
     "output_type": "stream",
     "text": [
      "What is your name?\n",
      "Tim\n",
      "How old are you?\n",
      "19\n",
      "Tim you will be 100 y.o. at 2100\n"
     ]
    }
   ],
   "source": [
    "#N1\n",
    "\n",
    "print(\"What is your name?\")\n",
    "n = input()\n",
    "print(\"How old are you?\")\n",
    "a = int(input())\n",
    "c = 2019+100-a\n",
    "print(n, \"you will be 100 y.o. at\", c)"
   ]
  },
  {
   "cell_type": "code",
   "execution_count": 10,
   "metadata": {},
   "outputs": [
    {
     "name": "stdout",
     "output_type": "stream",
     "text": [
      "Write a number\n",
      "4576\n",
      "number is even\n"
     ]
    }
   ],
   "source": [
    "#N2\n",
    "\n",
    "print(\"Write a number\")\n",
    "a = int(input())\n",
    "b = a % 2\n",
    "if b == 1:\n",
    "    print(\"number is odd\")\n",
    "else:\n",
    "    print(\"number is even\")"
   ]
  },
  {
   "cell_type": "code",
   "execution_count": 16,
   "metadata": {},
   "outputs": [
    {
     "name": "stdout",
     "output_type": "stream",
     "text": [
      "1\n",
      "1\n",
      "2\n",
      "3\n",
      "5\n"
     ]
    }
   ],
   "source": [
    "#N3\n",
    "\n",
    "a = [1, 1, 2, 3, 5, 8, 13, 21, 34, 55, 89]\n",
    "for i in a:\n",
    "    if i < 6:\n",
    "        print(i)"
   ]
  },
  {
   "cell_type": "code",
   "execution_count": 37,
   "metadata": {},
   "outputs": [
    {
     "name": "stdout",
     "output_type": "stream",
     "text": [
      "Write a number\n",
      "256\n",
      "1\n",
      "2\n",
      "4\n",
      "8\n",
      "16\n",
      "32\n",
      "64\n",
      "128\n",
      "256\n"
     ]
    }
   ],
   "source": [
    "#N4\n",
    "\n",
    "print(\"Write a number\")\n",
    "a = int(input())\n",
    "i = 1\n",
    "for i in range(a):\n",
    "    b = a % (i+1)\n",
    "    if b == 0:\n",
    "        print(i+1)\n"
   ]
  },
  {
   "cell_type": "code",
   "execution_count": 41,
   "metadata": {},
   "outputs": [
    {
     "name": "stdout",
     "output_type": "stream",
     "text": [
      "1\n",
      "1\n",
      "2\n",
      "3\n",
      "5\n",
      "8\n",
      "13\n"
     ]
    }
   ],
   "source": [
    "#N5\n",
    "\n",
    "a = [1, 1, 2, 3, 5, 8, 13, 21, 34, 55, 89]\n",
    "b = [1, 2, 3, 4, 5, 6, 7, 8, 9, 10, 11, 12, 13]\n",
    "\n",
    "for i in a:\n",
    "    for j in b:\n",
    "        if i == j:\n",
    "            print(i)\n",
    "\n",
    "\n",
    "            "
   ]
  },
  {
   "cell_type": "code",
   "execution_count": 43,
   "metadata": {},
   "outputs": [
    {
     "name": "stdout",
     "output_type": "stream",
     "text": [
      "[4, 16, 36, 64, 100]\n"
     ]
    }
   ],
   "source": [
    "#N7\n",
    "\n",
    "a = [1, 4, 9, 16, 25, 36, 49, 64, 81, 100]\n",
    "print([x for x in a if x % 2 == 0])"
   ]
  },
  {
   "cell_type": "code",
   "execution_count": 12,
   "metadata": {},
   "outputs": [
    {
     "name": "stdout",
     "output_type": "stream",
     "text": [
      "1212\n",
      "Not a palindrome\n"
     ]
    }
   ],
   "source": [
    "#N6\n",
    "\n",
    "\n",
    "name = input() \n",
    "# i = 0\n",
    "l = len(name)\n",
    "is_pal = True\n",
    "# for _ in name:\n",
    "for (i, _) in enumerate(name):\n",
    "    if name[i] != name[l - i - 1]:\n",
    "        print(\"Not a palindrome\")\n",
    "        is_pal = False\n",
    "        break\n",
    "\n",
    "if is_pal:\n",
    "    print(\"A palindrome\")\n"
   ]
  }
 ],
 "metadata": {
  "kernelspec": {
   "display_name": "Python 3",
   "language": "python",
   "name": "python3"
  },
  "language_info": {
   "codemirror_mode": {
    "name": "ipython",
    "version": 3
   },
   "file_extension": ".py",
   "mimetype": "text/x-python",
   "name": "python",
   "nbconvert_exporter": "python",
   "pygments_lexer": "ipython3",
   "version": "3.7.0"
  }
 },
 "nbformat": 4,
 "nbformat_minor": 2
}
