{
 "cells": [
  {
   "cell_type": "code",
   "execution_count": 24,
   "metadata": {},
   "outputs": [
    {
     "name": "stdout",
     "output_type": "stream",
     "text": [
      "0.24370908466419228\n",
      "0.49514016477340206\n",
      "0.08119462268600053\n",
      "0.27649166447830376\n",
      "0.5312001017874816\n",
      "0.4467602645103692\n",
      "0.7805746901846667\n",
      "0.30247640138087006\n",
      "0.6937532448756616\n",
      "0.17802543920402203\n"
     ]
    }
   ],
   "source": [
    "#N1\n",
    "\n",
    "import numpy as np\n",
    "a = np.random.random((10, 3))\n",
    "с = 10\n",
    "for i  in range(10):\n",
    "    for j in range(3):\n",
    "        if abs(a[i,j] - 0.5) < c:\n",
    "            c = a[i,j]\n",
    "    print(c)\n",
    "    c = 10"
   ]
  },
  {
   "cell_type": "code",
   "execution_count": 29,
   "metadata": {},
   "outputs": [
    {
     "name": "stdout",
     "output_type": "stream",
     "text": [
      "34.31018029640203\n",
      "102.41423852676157\n",
      "57.46458302741218\n",
      "33.77307356302977\n",
      "53.62916216659241\n",
      "94.68693419506887\n"
     ]
    }
   ],
   "source": [
    "#N2\n",
    "\n",
    "\n",
    "import numpy as np\n",
    "a = np.random.random((6, 6))\n",
    "b = 0\n",
    "c = 10\n",
    "for i  in range(6):\n",
    "    for j in range(6):\n",
    "        b = b + a[i,j]\n",
    "    for n in range(6):\n",
    "        if a[n,i] < c:\n",
    "            c = a[n,i]\n",
    "    s = b/c\n",
    "    print(s)\n",
    "    c=10\n",
    "    s = 0"
   ]
  },
  {
   "cell_type": "code",
   "execution_count": 37,
   "metadata": {},
   "outputs": [
    {
     "name": "stdout",
     "output_type": "stream",
     "text": [
      "5\n"
     ]
    }
   ],
   "source": [
    "#N3 \n",
    "\n",
    "\n",
    "import numpy as np\n",
    "x = np.array([6, 2, 0, 3, 0, 0, 5, 7, 0])\n",
    "a = 0\n",
    "for i in range(len(x)-1):\n",
    "    if x[i] == 0:\n",
    "        if x[i+1] > a:\n",
    "            a = x[i+1]\n",
    "print(a)"
   ]
  },
  {
   "cell_type": "code",
   "execution_count": 43,
   "metadata": {},
   "outputs": [
    {
     "name": "stdout",
     "output_type": "stream",
     "text": [
      "[2. 2. 2. 2. 1. 4. 1. 1. 2. 1.]\n"
     ]
    }
   ],
   "source": [
    "#N4\n",
    "\n",
    "\n",
    "import numpy as np\n",
    "x = np.ones(10)\n",
    "a = np.array([0, 1, 2, 3, 5, 5, 5, 8])\n",
    "for i in range(len(a)):\n",
    "    b = a[i]\n",
    "    x[b]=x[b] + 1\n",
    "print(x)"
   ]
  },
  {
   "cell_type": "code",
   "execution_count": 51,
   "metadata": {},
   "outputs": [
    {
     "name": "stdout",
     "output_type": "stream",
     "text": [
      "{0: [0], 1: [1, 4], 2: [2, 5, 8], 3: [3, 6, 9, 12], 4: [7, 10, 13], 5: [11, 14], 6: [15]}\n"
     ]
    }
   ],
   "source": [
    "#N5\n",
    "\n",
    "n=4\n",
    "a = np.arange(16).reshape(n,n)\n",
    "d={a: None for a in range(n*2-1)}\n",
    "b=[]\n",
    "for i in range(n):\n",
    "    for j in range(i+1):\n",
    "        b.append(a[j,i-j])\n",
    "    d[i]=b\n",
    "    b=[]\n",
    "for i in range(n-1):\n",
    "    for j in range(i+1):\n",
    "        b.append(a[n-i+j-1,n-j-1])\n",
    "    d[n*2-2-i]=b\n",
    "    b=[]\n",
    "print(d)"
   ]
  },
  {
   "cell_type": "code",
   "execution_count": null,
   "metadata": {},
   "outputs": [],
   "source": []
  }
 ],
 "metadata": {
  "kernelspec": {
   "display_name": "Python 3",
   "language": "python",
   "name": "python3"
  },
  "language_info": {
   "codemirror_mode": {
    "name": "ipython",
    "version": 3
   },
   "file_extension": ".py",
   "mimetype": "text/x-python",
   "name": "python",
   "nbconvert_exporter": "python",
   "pygments_lexer": "ipython3",
   "version": "3.7.0"
  }
 },
 "nbformat": 4,
 "nbformat_minor": 2
}
