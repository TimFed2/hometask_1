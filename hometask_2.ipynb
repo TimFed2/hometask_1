{
 "cells": [
  {
   "cell_type": "code",
   "execution_count": 2,
   "metadata": {},
   "outputs": [
    {
     "data": {
      "text/plain": [
       "array([0.74616046, 0.45536209, 0.42096159, 0.48227566, 0.47078252,\n",
       "       0.5076001 , 0.52415114, 0.64836492, 0.25770557, 0.33032437])"
      ]
     },
     "execution_count": 2,
     "metadata": {},
     "output_type": "execute_result"
    }
   ],
   "source": [
    "#N1\n",
    "\n",
    "import numpy as np\n",
    "a = np.random.random((10, 3))\n",
    "a[np.arange(10),np.absolute(a-0.5).argmin(axis=1)]"
   ]
  },
  {
   "cell_type": "code",
   "execution_count": 12,
   "metadata": {},
   "outputs": [
    {
     "data": {
      "text/plain": [
       "array([ 23.89102728,  52.77382913,   4.60386796, 177.61964758,\n",
       "        23.39967286,  27.38715246])"
      ]
     },
     "execution_count": 12,
     "metadata": {},
     "output_type": "execute_result"
    }
   ],
   "source": [
    "#N2\n",
    "\n",
    "\n",
    "import numpy as np\n",
    "a = np.random.random((6, 6))\n",
    "np.array([np.sum(a[i])/np.min(a[np.arange(6),i]) for i in range(6)])"
   ]
  },
  {
   "cell_type": "code",
   "execution_count": 33,
   "metadata": {},
   "outputs": [
    {
     "data": {
      "text/plain": [
       "5"
      ]
     },
     "execution_count": 33,
     "metadata": {},
     "output_type": "execute_result"
    }
   ],
   "source": [
    "#N3 \n",
    "\n",
    "\n",
    "import numpy as np\n",
    "x = np.array([6, 2, 0, 3, 0, 0, 5, 7, 0])\n",
    "np.amax(np.array([x[i] for i in range(1,8) if x[i-1]==0]))"
   ]
  },
  {
   "cell_type": "code",
   "execution_count": 43,
   "metadata": {},
   "outputs": [
    {
     "data": {
      "text/plain": [
       "array([2., 2., 2., 2., 1., 4., 1., 1., 2., 1.])"
      ]
     },
     "execution_count": 43,
     "metadata": {},
     "output_type": "execute_result"
    }
   ],
   "source": [
    "#N4\n",
    "\n",
    "\n",
    "import numpy as np\n",
    "x = np.ones(10)\n",
    "a = np.array([0, 1, 2, 3, 5, 5, 5, 8])\n",
    "np.array([a==j for j in range (10)]).sum(axis=1)+x\n",
    "\n",
    "# for i in range(len(a)):\n",
    "#     b = a[i]\n",
    "#     x[b]=x[b] + 1\n",
    "# print(x)"
   ]
  },
  {
   "cell_type": "code",
   "execution_count": 7,
   "metadata": {},
   "outputs": [
    {
     "name": "stdout",
     "output_type": "stream",
     "text": [
      "{0: [0], 1: [1, 4], 2: [2, 5, 8], 3: [3, 6, 9, 12], 4: [7, 10, 13], 5: [11, 14], 6: [15]}\n"
     ]
    }
   ],
   "source": [
    "#N5\n",
    "\n",
    "n=4\n",
    "a = np.arange(16).reshape(n,n)\n",
    "d = {3-j: np.diagonal(a[:, ::-1], j).tolist() for j in range(3, -4, -1) } \n",
    "print(d)\n",
    "\n",
    "# d={a: None for a in range(n*2-1)}\n",
    "# b=[]\n",
    "# for i in range(n):\n",
    "#     for j in range(i+1):\n",
    "#         b.append(a[j,i-j])\n",
    "#     d[i]=b\n",
    "#     b=[]\n",
    "# for i in range(n-1):\n",
    "#     for j in range(i+1):\n",
    "#         b.append(a[n-i+j-1,n-j-1])\n",
    "#     d[n*2-2-i]=b\n",
    "#     b=[]\n",
    "# print(d)"
   ]
  },
  {
   "cell_type": "code",
   "execution_count": 42,
   "metadata": {},
   "outputs": [],
   "source": [
    "#N6\n",
    "\n",
    "\n",
    "import numpy as np \n",
    "from scipy.cluster.vq import kmeans\n",
    "data = np.genfromtxt('geysers.csv', delimiter=',', skip_header=1)"
   ]
  },
  {
   "cell_type": "code",
   "execution_count": 45,
   "metadata": {},
   "outputs": [
    {
     "data": {
      "image/png": "[encoded data removed]",
      "text/plain": [
       "<Figure size 432x288 with 1 Axes>"
      ]
     },
     "metadata": {
      "needs_background": "light"
     },
     "output_type": "display_data"
    }
   ],
   "source": [
    "plt.scatter(*data.T)\n",
    "plt.xlabel('Eruption time (min)')\n",
    "plt.ylabel('Waiting time ti next eruption (min)')\n",
    "\n",
    "plt.scatter(*data.T)\n",
    "plt.show()\n",
    "data = (data - data.mean(axis=0)) / data.std(axis=0)\n",
    "\n",
    "centroids = np.random.uniform(-2, 2, 4).reshape((2, 2))"
   ]
  },
  {
   "cell_type": "code",
   "execution_count": 46,
   "metadata": {},
   "outputs": [],
   "source": [
    "\n",
    "def get_labels(pts, centroids):\n",
    "    '''Get index number of closest centroid to each item in X\n",
    "\n",
    "    Parameters\n",
    "    ----------\n",
    "    pts : ndarray\n",
    "        Array of points.\n",
    "    centroids : ndarray\n",
    "        Array of centroids.\n",
    "\n",
    "    Returns\n",
    "    -------\n",
    "    res : ndarray\n",
    "        Indices of closest centroids for each item in X.\n",
    "    '''\n",
    "    dist = np.hstack([np.linalg.norm(pts - centroid, axis=1).reshape(-1, 1) for centroid in centroids])\n",
    "    return np.argmin(dist, axis=1)\n",
    "\n",
    "def kmeans(obs, k, iter=20, thresh=1e-05):\n",
    "    centroids = np.random.random((k, obs.shape[1]))\n",
    "    labels = get_labels(obs, centroids)\n",
    "    norm = norma(obs, centroids, labels)\n",
    "    minnm = norm\n",
    "    newcen = centroids\n",
    "        \n",
    "        \n",
    "    for i in range(iter):\n",
    "        prevnm = norm\n",
    "        centroids = np.array([obs[labels == i].mean(axis=0) for i in range(k)])\n",
    "        labels = get_labels(obs, centroids)\n",
    "        norm = norma(obs, centroids, labels)       \n",
    "        if norm < minnm:\n",
    "            newcen = centroids\n",
    "            minnm = norm\n",
    "   \n",
    "        if abs(norm - prevnm) < thresh:\n",
    "            break\n",
    "            \n",
    "    return newcen\n",
    "\n",
    "def norma(obs, centroids, labels):\n",
    "    ans = 0\n",
    "    for i in range(centroids.shape[0]):\n",
    "        ans+= abs(np.linalg.norm(obs[i==labels] - centroids[i], axis=1).sum())\n",
    "    return ans"
   ]
  },
  {
   "cell_type": "code",
   "execution_count": 47,
   "metadata": {},
   "outputs": [
    {
     "data": {
      "image/png": "[encoded data removed]",
      "text/plain": [
       "<Figure size 432x288 with 1 Axes>"
      ]
     },
     "metadata": {
      "needs_background": "light"
     },
     "output_type": "display_data"
    }
   ],
   "source": [
    "centroids = kmeans(data, 2)\n",
    "labels = get_labels(data, centroids)\n",
    "plt.scatter(*data.T, c=np.where(labels, \"green\", \"red\"), s=20)\n",
    "plt.scatter(*centroids.T, c=[\"red\", \"green\"], s=95, marker='*')\n",
    "plt.title('Predicted Classes')\n",
    "plt.show()\n",
    "#print(centroids)"
   ]
  },
  {
   "cell_type": "code",
   "execution_count": null,
   "metadata": {},
   "outputs": [],
   "source": []
  }
 ],
 "metadata": {
  "kernelspec": {
   "display_name": "Python 3",
   "language": "python",
   "name": "python3"
  },
  "language_info": {
   "codemirror_mode": {
    "name": "ipython",
    "version": 3
   },
   "file_extension": ".py",
   "mimetype": "text/x-python",
   "name": "python",
   "nbconvert_exporter": "python",
   "pygments_lexer": "ipython3",
   "version": "3.7.0"
  }
 },
 "nbformat": 4,
 "nbformat_minor": 2
}
