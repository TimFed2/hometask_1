{
 "cells": [
  {
   "cell_type": "code",
   "execution_count": 334,
   "metadata": {},
   "outputs": [],
   "source": [
    "import numpy as np\n",
    "import pandas as pd\n",
    "import matplotlib.pyplot as plt"
   ]
  },
  {
   "cell_type": "code",
   "execution_count": 335,
   "metadata": {},
   "outputs": [],
   "source": [
    "url1 = 'https://raw.githubusercontent.com/vaibhavwalvekar/NYC-Flights-2013-Dataset-Analysis/master/flights.csv'\n",
    "url2 = 'https://raw.githubusercontent.com/vaibhavwalvekar/NYC-Flights-2013-Dataset-Analysis/master/weather.csv'\n",
    "    \n",
    "f = pd.read_csv(url1, sep=',')\n",
    "w = pd.read_csv(url2, sep=',')"
   ]
  },
  {
   "cell_type": "code",
   "execution_count": 336,
   "metadata": {},
   "outputs": [
    {
     "data": {
      "text/html": [
       "<div>\n",
       "<style scoped>\n",
       "    .dataframe tbody tr th:only-of-type {\n",
       "        vertical-align: middle;\n",
       "    }\n",
       "\n",
       "    .dataframe tbody tr th {\n",
       "        vertical-align: top;\n",
       "    }\n",
       "\n",
       "    .dataframe thead th {\n",
       "        text-align: right;\n",
       "    }\n",
       "</style>\n",
       "<table border=\"1\" class=\"dataframe\">\n",
       "  <thead>\n",
       "    <tr style=\"text-align: right;\">\n",
       "      <th></th>\n",
       "      <th>Unnamed: 0</th>\n",
       "      <th>year</th>\n",
       "      <th>month</th>\n",
       "      <th>day</th>\n",
       "      <th>dep_time</th>\n",
       "      <th>dep_delay</th>\n",
       "      <th>arr_time</th>\n",
       "      <th>arr_delay</th>\n",
       "      <th>carrier</th>\n",
       "      <th>tailnum</th>\n",
       "      <th>flight</th>\n",
       "      <th>origin</th>\n",
       "      <th>dest</th>\n",
       "      <th>air_time</th>\n",
       "      <th>distance</th>\n",
       "      <th>hour</th>\n",
       "      <th>minute</th>\n",
       "    </tr>\n",
       "  </thead>\n",
       "  <tbody>\n",
       "    <tr>\n",
       "      <th>336766</th>\n",
       "      <td>336767</td>\n",
       "      <td>2013</td>\n",
       "      <td>9</td>\n",
       "      <td>30</td>\n",
       "      <td>2240.0</td>\n",
       "      <td>-10.0</td>\n",
       "      <td>2347.0</td>\n",
       "      <td>-20.0</td>\n",
       "      <td>B6</td>\n",
       "      <td>N281JB</td>\n",
       "      <td>2002</td>\n",
       "      <td>JFK</td>\n",
       "      <td>BUF</td>\n",
       "      <td>52.0</td>\n",
       "      <td>301</td>\n",
       "      <td>22.0</td>\n",
       "      <td>40.0</td>\n",
       "    </tr>\n",
       "    <tr>\n",
       "      <th>336767</th>\n",
       "      <td>336768</td>\n",
       "      <td>2013</td>\n",
       "      <td>9</td>\n",
       "      <td>30</td>\n",
       "      <td>2241.0</td>\n",
       "      <td>-5.0</td>\n",
       "      <td>2345.0</td>\n",
       "      <td>-16.0</td>\n",
       "      <td>B6</td>\n",
       "      <td>N346JB</td>\n",
       "      <td>486</td>\n",
       "      <td>JFK</td>\n",
       "      <td>ROC</td>\n",
       "      <td>47.0</td>\n",
       "      <td>264</td>\n",
       "      <td>22.0</td>\n",
       "      <td>41.0</td>\n",
       "    </tr>\n",
       "    <tr>\n",
       "      <th>336768</th>\n",
       "      <td>336769</td>\n",
       "      <td>2013</td>\n",
       "      <td>9</td>\n",
       "      <td>30</td>\n",
       "      <td>2307.0</td>\n",
       "      <td>12.0</td>\n",
       "      <td>2359.0</td>\n",
       "      <td>1.0</td>\n",
       "      <td>B6</td>\n",
       "      <td>N565JB</td>\n",
       "      <td>718</td>\n",
       "      <td>JFK</td>\n",
       "      <td>BOS</td>\n",
       "      <td>33.0</td>\n",
       "      <td>187</td>\n",
       "      <td>23.0</td>\n",
       "      <td>7.0</td>\n",
       "    </tr>\n",
       "    <tr>\n",
       "      <th>336769</th>\n",
       "      <td>336770</td>\n",
       "      <td>2013</td>\n",
       "      <td>9</td>\n",
       "      <td>30</td>\n",
       "      <td>2349.0</td>\n",
       "      <td>-10.0</td>\n",
       "      <td>325.0</td>\n",
       "      <td>-25.0</td>\n",
       "      <td>B6</td>\n",
       "      <td>N516JB</td>\n",
       "      <td>745</td>\n",
       "      <td>JFK</td>\n",
       "      <td>PSE</td>\n",
       "      <td>196.0</td>\n",
       "      <td>1617</td>\n",
       "      <td>23.0</td>\n",
       "      <td>49.0</td>\n",
       "    </tr>\n",
       "    <tr>\n",
       "      <th>336770</th>\n",
       "      <td>336771</td>\n",
       "      <td>2013</td>\n",
       "      <td>9</td>\n",
       "      <td>30</td>\n",
       "      <td>NaN</td>\n",
       "      <td>NaN</td>\n",
       "      <td>NaN</td>\n",
       "      <td>NaN</td>\n",
       "      <td>EV</td>\n",
       "      <td>N740EV</td>\n",
       "      <td>5274</td>\n",
       "      <td>LGA</td>\n",
       "      <td>BNA</td>\n",
       "      <td>NaN</td>\n",
       "      <td>764</td>\n",
       "      <td>NaN</td>\n",
       "      <td>NaN</td>\n",
       "    </tr>\n",
       "    <tr>\n",
       "      <th>336771</th>\n",
       "      <td>336772</td>\n",
       "      <td>2013</td>\n",
       "      <td>9</td>\n",
       "      <td>30</td>\n",
       "      <td>NaN</td>\n",
       "      <td>NaN</td>\n",
       "      <td>NaN</td>\n",
       "      <td>NaN</td>\n",
       "      <td>9E</td>\n",
       "      <td>NaN</td>\n",
       "      <td>3393</td>\n",
       "      <td>JFK</td>\n",
       "      <td>DCA</td>\n",
       "      <td>NaN</td>\n",
       "      <td>213</td>\n",
       "      <td>NaN</td>\n",
       "      <td>NaN</td>\n",
       "    </tr>\n",
       "    <tr>\n",
       "      <th>336772</th>\n",
       "      <td>336773</td>\n",
       "      <td>2013</td>\n",
       "      <td>9</td>\n",
       "      <td>30</td>\n",
       "      <td>NaN</td>\n",
       "      <td>NaN</td>\n",
       "      <td>NaN</td>\n",
       "      <td>NaN</td>\n",
       "      <td>9E</td>\n",
       "      <td>NaN</td>\n",
       "      <td>3525</td>\n",
       "      <td>LGA</td>\n",
       "      <td>SYR</td>\n",
       "      <td>NaN</td>\n",
       "      <td>198</td>\n",
       "      <td>NaN</td>\n",
       "      <td>NaN</td>\n",
       "    </tr>\n",
       "    <tr>\n",
       "      <th>336773</th>\n",
       "      <td>336774</td>\n",
       "      <td>2013</td>\n",
       "      <td>9</td>\n",
       "      <td>30</td>\n",
       "      <td>NaN</td>\n",
       "      <td>NaN</td>\n",
       "      <td>NaN</td>\n",
       "      <td>NaN</td>\n",
       "      <td>MQ</td>\n",
       "      <td>N535MQ</td>\n",
       "      <td>3461</td>\n",
       "      <td>LGA</td>\n",
       "      <td>BNA</td>\n",
       "      <td>NaN</td>\n",
       "      <td>764</td>\n",
       "      <td>NaN</td>\n",
       "      <td>NaN</td>\n",
       "    </tr>\n",
       "    <tr>\n",
       "      <th>336774</th>\n",
       "      <td>336775</td>\n",
       "      <td>2013</td>\n",
       "      <td>9</td>\n",
       "      <td>30</td>\n",
       "      <td>NaN</td>\n",
       "      <td>NaN</td>\n",
       "      <td>NaN</td>\n",
       "      <td>NaN</td>\n",
       "      <td>MQ</td>\n",
       "      <td>N511MQ</td>\n",
       "      <td>3572</td>\n",
       "      <td>LGA</td>\n",
       "      <td>CLE</td>\n",
       "      <td>NaN</td>\n",
       "      <td>419</td>\n",
       "      <td>NaN</td>\n",
       "      <td>NaN</td>\n",
       "    </tr>\n",
       "    <tr>\n",
       "      <th>336775</th>\n",
       "      <td>336776</td>\n",
       "      <td>2013</td>\n",
       "      <td>9</td>\n",
       "      <td>30</td>\n",
       "      <td>NaN</td>\n",
       "      <td>NaN</td>\n",
       "      <td>NaN</td>\n",
       "      <td>NaN</td>\n",
       "      <td>MQ</td>\n",
       "      <td>N839MQ</td>\n",
       "      <td>3531</td>\n",
       "      <td>LGA</td>\n",
       "      <td>RDU</td>\n",
       "      <td>NaN</td>\n",
       "      <td>431</td>\n",
       "      <td>NaN</td>\n",
       "      <td>NaN</td>\n",
       "    </tr>\n",
       "  </tbody>\n",
       "</table>\n",
       "</div>"
      ],
      "text/plain": [
       "        Unnamed: 0  year  month  day  dep_time  dep_delay  arr_time  \\\n",
       "336766      336767  2013      9   30    2240.0      -10.0    2347.0   \n",
       "336767      336768  2013      9   30    2241.0       -5.0    2345.0   \n",
       "336768      336769  2013      9   30    2307.0       12.0    2359.0   \n",
       "336769      336770  2013      9   30    2349.0      -10.0     325.0   \n",
       "336770      336771  2013      9   30       NaN        NaN       NaN   \n",
       "336771      336772  2013      9   30       NaN        NaN       NaN   \n",
       "336772      336773  2013      9   30       NaN        NaN       NaN   \n",
       "336773      336774  2013      9   30       NaN        NaN       NaN   \n",
       "336774      336775  2013      9   30       NaN        NaN       NaN   \n",
       "336775      336776  2013      9   30       NaN        NaN       NaN   \n",
       "\n",
       "        arr_delay carrier tailnum  flight origin dest  air_time  distance  \\\n",
       "336766      -20.0      B6  N281JB    2002    JFK  BUF      52.0       301   \n",
       "336767      -16.0      B6  N346JB     486    JFK  ROC      47.0       264   \n",
       "336768        1.0      B6  N565JB     718    JFK  BOS      33.0       187   \n",
       "336769      -25.0      B6  N516JB     745    JFK  PSE     196.0      1617   \n",
       "336770        NaN      EV  N740EV    5274    LGA  BNA       NaN       764   \n",
       "336771        NaN      9E     NaN    3393    JFK  DCA       NaN       213   \n",
       "336772        NaN      9E     NaN    3525    LGA  SYR       NaN       198   \n",
       "336773        NaN      MQ  N535MQ    3461    LGA  BNA       NaN       764   \n",
       "336774        NaN      MQ  N511MQ    3572    LGA  CLE       NaN       419   \n",
       "336775        NaN      MQ  N839MQ    3531    LGA  RDU       NaN       431   \n",
       "\n",
       "        hour  minute  \n",
       "336766  22.0    40.0  \n",
       "336767  22.0    41.0  \n",
       "336768  23.0     7.0  \n",
       "336769  23.0    49.0  \n",
       "336770   NaN     NaN  \n",
       "336771   NaN     NaN  \n",
       "336772   NaN     NaN  \n",
       "336773   NaN     NaN  \n",
       "336774   NaN     NaN  \n",
       "336775   NaN     NaN  "
      ]
     },
     "execution_count": 336,
     "metadata": {},
     "output_type": "execute_result"
    }
   ],
   "source": [
    "f.tail(10)"
   ]
  },
  {
   "cell_type": "code",
   "execution_count": 337,
   "metadata": {},
   "outputs": [
    {
     "name": "stdout",
     "output_type": "stream",
     "text": [
      "    month  Count\n",
      "0       1   9662\n",
      "1       2   9124\n",
      "2       3  11209\n",
      "3       4  10543\n",
      "4       5  11291\n",
      "5       6  12655\n",
      "6       7  13909\n",
      "7       8  11713\n",
      "8       9   7815\n",
      "9      10   8722\n",
      "10     11   8239\n",
      "11     12  13550\n"
     ]
    }
   ],
   "source": [
    "#1\n",
    "\n",
    "filt_f=f[f.dep_delay>0]\n",
    "data=pd.DataFrame(filt_f.groupby([filt_f.month])['dep_delay'].size().reset_index(name='Count'))\n",
    "print(data)\n",
    "#len(data.month)"
   ]
  },
  {
   "cell_type": "code",
   "execution_count": 338,
   "metadata": {},
   "outputs": [
    {
     "data": {
      "image/png": "[encoded data removed]",
      "text/plain": [
       "<Figure size 432x288 with 1 Axes>"
      ]
     },
     "metadata": {
      "needs_background": "light"
     },
     "output_type": "display_data"
    }
   ],
   "source": [
    "\n",
    "plt.bar(data.month, data.Count, color=\"black\")\n",
    "plt.ylabel('Delays')\n",
    "plt.xlabel('Months')\n",
    "plt.title('delays per month')\n",
    "plt.tight_layout()\n",
    "plt.show()"
   ]
  },
  {
   "cell_type": "markdown",
   "metadata": {},
   "source": [
    "Наибольшие задержки в декабре, июне и июле, когда большая часть людей отправляется на выходные, соответственно в это время авиокампаниям нужно наиболее активно работать\n"
   ]
  },
  {
   "cell_type": "code",
   "execution_count": 341,
   "metadata": {},
   "outputs": [],
   "source": [
    "#2 задержки от времени суток\n",
    "\n",
    "filt_f=f[f.dep_delay>0]\n",
    "filt_data=pd.DataFrame(filt_f.groupby([filt_f.hour])['dep_delay'].size().reset_index(name='Count'))\n",
    "#print(data)\n",
    "data=pd.DataFrame(f.groupby([f.hour])['dep_delay'].size().reset_index(name='Total_count'))\n",
    "data_merged = pd.merge(filt_data,data, on=['hour'])\n",
    "data_merged['Persentage_of_delayed_aircrafts']=(data_merged.Count/data_merged.Total_count)*100\n",
    "#print(data_merged)"
   ]
  },
  {
   "cell_type": "code",
   "execution_count": 342,
   "metadata": {},
   "outputs": [
    {
     "data": {
      "image/png": "[encoded data removed]",
      "text/plain": [
       "<Figure size 432x288 with 1 Axes>"
      ]
     },
     "metadata": {
      "needs_background": "light"
     },
     "output_type": "display_data"
    }
   ],
   "source": [
    "plt.bar(data_merged.hour, data_merged.Persentage_of_delayed_aircrafts, color='black')\n",
    "plt.ylabel('Persentage of delayed aircrafts')\n",
    "plt.xlabel('Hours')\n",
    "plt.title('delays')\n",
    "plt.show()"
   ]
  },
  {
   "cell_type": "markdown",
   "metadata": {},
   "source": [
    "Наибольшие задержки приходятся на ночное время, возможно ввиду того, что большая масса персонала работает в дневное время\n"
   ]
  },
  {
   "cell_type": "markdown",
   "metadata": {},
   "source": [
    "Поэтому возможно стоит увеличить количество персонала, работающего в ночную смену"
   ]
  },
  {
   "cell_type": "code",
   "execution_count": 343,
   "metadata": {},
   "outputs": [
    {
     "name": "stdout",
     "output_type": "stream",
     "text": [
      "    hour  Mean_delay_departure\n",
      "0    0.0            128.642452\n",
      "1    1.0            207.049327\n",
      "2    2.0            239.921875\n",
      "3    3.0            304.727273\n",
      "4    4.0             -5.554098\n",
      "5    5.0             -4.355644\n",
      "6    6.0             -1.520552\n",
      "7    7.0              0.223289\n",
      "8    8.0              1.091432\n",
      "9    9.0              4.268295\n",
      "10  10.0              5.548644\n",
      "11  11.0              5.652309\n",
      "12  12.0              7.601892\n",
      "13  13.0              9.380639\n",
      "14  14.0              8.090381\n",
      "15  15.0             10.682049\n",
      "16  16.0             13.621150\n",
      "17  17.0             16.756593\n",
      "18  18.0             18.664671\n",
      "19  19.0             21.497342\n",
      "20  20.0             28.266213\n",
      "21  21.0             42.064964\n",
      "22  22.0             68.190042\n",
      "23  23.0             96.946865\n",
      "24  24.0             64.862069\n"
     ]
    }
   ],
   "source": [
    "#3 задержки от времени отправдения\n",
    "\n",
    "\n",
    "group_f = pd.DataFrame(f.groupby(f.hour)['dep_delay'].mean().reset_index(name='Mean_delay_departure'))\n",
    "print(group_f)"
   ]
  },
  {
   "cell_type": "code",
   "execution_count": 344,
   "metadata": {},
   "outputs": [
    {
     "data": {
      "image/png": "[encoded data removed]",
      "text/plain": [
       "<Figure size 432x288 with 1 Axes>"
      ]
     },
     "metadata": {
      "needs_background": "light"
     },
     "output_type": "display_data"
    }
   ],
   "source": [
    "plt.plot(group_f.hour, group_f.Mean_delay_departure,'')\n",
    "plt.xlim(0, 25)\n",
    "plt.ylabel('avg delays time per min')\n",
    "plt.xlabel('hours')\n",
    "plt.title('avg delay time (depended on time)')\n",
    "plt.show()"
   ]
  },
  {
   "cell_type": "markdown",
   "metadata": {},
   "source": [
    "Опять видно что основная масса задержек приходится на ночь и ранне утро. Возможно такая тенденция связана с тем, что большинство рейсов приходится как раз на это время, откуда и такое процентное соотношение\n"
   ]
  },
  {
   "cell_type": "code",
   "execution_count": 345,
   "metadata": {},
   "outputs": [],
   "source": [
    "#4 \n",
    "\n",
    "night_f=f.loc[(f['hour']>=21.0) | (f['hour']<=6.0)]\n",
    "day_f=f.loc[(f['hour']<21.0) & (f['hour']>6.0)]\n",
    "day_value=day_f.shape[0]"
   ]
  },
  {
   "cell_type": "code",
   "execution_count": 346,
   "metadata": {},
   "outputs": [
    {
     "data": {
      "image/png": "[encoded data removed]",
      "text/plain": [
       "<Figure size 432x288 with 1 Axes>"
      ]
     },
     "metadata": {},
     "output_type": "display_data"
    }
   ],
   "source": [
    "night_value=night_f.shape[0]\n",
    "data = [night_value,day_value]\n",
    "plt.pie (data,labels=['Night flight','Day flight'])\n",
    "\n",
    "plt.show()"
   ]
  },
  {
   "cell_type": "raw",
   "metadata": {},
   "source": [
    "Как видно, основная масса полётов совершается в дневное время, поэтому первое предположение о количестве персонала, и качестве работы ночью больше похоже на правду"
   ]
  },
  {
   "cell_type": "code",
   "execution_count": 347,
   "metadata": {},
   "outputs": [
    {
     "name": "stdout",
     "output_type": "stream",
     "text": [
      "85.86215538847118\n",
      "83.5369211514393\n"
     ]
    }
   ],
   "source": [
    "#5 среднее время задержки\n",
    "\n",
    "group_f = f.groupby([f.month,f.day]).mean()\n",
    "print(max(group_f.arr_delay)) # Cреднее время задержки прилёта\n",
    "print(max(group_f.dep_delay)) # Среднее время задержки отправления"
   ]
  },
  {
   "cell_type": "code",
   "execution_count": 348,
   "metadata": {},
   "outputs": [],
   "source": [
    "#6 задержки от видимости\n",
    "\n",
    "\n",
    "filt_f=f[f.dep_delay>0]\n",
    "groupby_for_analys = filt_f.groupby([filt_f.origin, filt_f.month,\n",
    "filt_f.day, filt_f.hour])\n",
    "grouped_origin_time_hour = groupby_for_analys['dep_delay'].agg([np.size, np.mean]).reset_index()\n",
    "#grouped_origin_time_hour"
   ]
  },
  {
   "cell_type": "code",
   "execution_count": 349,
   "metadata": {},
   "outputs": [
    {
     "name": "stdout",
     "output_type": "stream",
     "text": [
      "    visib  TotalDelay      Count\n",
      "                 mean       mean\n",
      "0    0.12   53.125926   9.333333\n",
      "1    0.25   50.368918   9.266667\n",
      "2    0.50   48.025944   8.081081\n",
      "3    0.75  108.043222  10.375000\n",
      "4    1.00   44.052121   8.615385\n",
      "5    1.25   99.533333  15.000000\n",
      "6    1.50   57.758718  10.785714\n",
      "7    1.75  106.130952   7.000000\n",
      "8    2.00   53.179340  10.566265\n",
      "9    2.50   57.614434   9.750000\n",
      "10   3.00   43.960403  11.780488\n",
      "11   4.00   44.990879   9.128571\n",
      "12   5.00   45.245112  10.178947\n",
      "13   6.00   45.309186   7.691729\n",
      "14   7.00   42.906023   8.536000\n",
      "15   8.00   41.097958   8.829268\n",
      "16   9.00   46.031925   9.126394\n",
      "17  10.00   36.867483   7.761381\n"
     ]
    }
   ],
   "source": [
    "dw_and_df_merged = pd.merge(grouped_origin_time_hour,w, on=['origin','day','month','hour'])\n",
    "#print(dw_and_df_merged)\n",
    "dw_and_df_merged = dw_and_df_merged.rename(columns={'size': 'Count', 'mean': 'TotalDelay'})\n",
    "visib_fw = dw_and_df_merged.groupby([dw_and_df_merged.visib])['TotalDelay','Count' ].agg([np.mean]).reset_index()\n",
    "print(visib_fw)"
   ]
  },
  {
   "cell_type": "code",
   "execution_count": 350,
   "metadata": {},
   "outputs": [
    {
     "data": {
      "image/png": "[encoded data removed]",
      "text/plain": [
       "<Figure size 432x288 with 1 Axes>"
      ]
     },
     "metadata": {
      "needs_background": "light"
     },
     "output_type": "display_data"
    },
    {
     "data": {
      "image/png": "[encoded data removed]",
      "text/plain": [
       "<Figure size 432x288 with 1 Axes>"
      ]
     },
     "metadata": {
      "needs_background": "light"
     },
     "output_type": "display_data"
    }
   ],
   "source": [
    "plt.xlim(0, 10)\n",
    "plt.ylim(0, 120)\n",
    "plt.scatter(visib_fw.visib,visib_fw.TotalDelay)\n",
    "plt.ylabel('delay time')\n",
    "plt.xlabel('vision')\n",
    "plt.title('avg delay (depended on vision)')\n",
    "plt.show()\n",
    "\n",
    "\n",
    "plt.xlim(0, 11)\n",
    "plt.ylim(0, 17)\n",
    "plt.scatter(visib_fw.visib,visib_fw.Count)\n",
    "plt.ylabel('avg amount of delayed planes')\n",
    "plt.xlabel('vision')\n",
    "plt.title('avg amount of delayed planes (depended on vision)')\n",
    "plt.show()"
   ]
  },
  {
   "cell_type": "markdown",
   "metadata": {},
   "source": [
    "Среднее время задержки сильно увеличивается, когда видимость меньше двух миль, и в целом большее количество задержанных рейсов происходит при такой же видимости"
   ]
  },
  {
   "cell_type": "code",
   "execution_count": 351,
   "metadata": {},
   "outputs": [
    {
     "name": "stdout",
     "output_type": "stream",
     "text": [
      "   carrier  Count  Total_count  Persentage_of_delayed_aircrafts\n",
      "0       9E   5055        18460                        27.383532\n",
      "1       AA   6668        32729                        20.373369\n",
      "2       AS    125          714                        17.507003\n",
      "3       B6  16436        54635                        30.083280\n",
      "4       DL  10126        48110                        21.047599\n",
      "5       EV  19183        54173                        35.410629\n",
      "6       F9    256          685                        37.372263\n",
      "7       FL   1386         3260                        42.515337\n",
      "8       HA     37          342                        10.818713\n",
      "9       MQ   6944        26397                        26.306020\n",
      "10      OO      8           32                        25.000000\n",
      "11      UA  16606        58665                        28.306486\n",
      "12      US   3765        20536                        18.333658\n",
      "13      VX   1217         5162                        23.576133\n",
      "14      WN   4293        12275                        34.973523\n",
      "15      YV    198          601                        32.945092\n"
     ]
    }
   ],
   "source": [
    "#7,8\n",
    "\n",
    "filt_f=f[(f.dep_delay>0)&(f.arr_delay>0)]\n",
    "\n",
    "filt_data_dep=pd.DataFrame(filt_f.groupby([filt_f.carrier])['dep_delay'].size().reset_index(name='Count'))\n",
    "filt_data_arr=pd.DataFrame(filt_f.groupby([filt_f.carrier])['arr_delay'].mean().reset_index(name='Mean_arr'))\n",
    "#print(data)\n",
    "data_dep=pd.DataFrame(f.groupby([f.carrier])['dep_delay'].size().reset_index(name='Total_count'))\n",
    "data_arr=pd.DataFrame(f.groupby([f.carrier])['arr_delay'].size().reset_index(name='Total_count'))\n",
    "\n",
    "data_merged_dep = pd.merge(filt_data_dep,data_dep, on=['carrier'])\n",
    "data_merged_arr = pd.merge(filt_data_arr,data_arr, on=['carrier'])\n",
    "\n",
    "data_merged_dep['Persentage_of_delayed_aircrafts']=(data_merged_dep.Count/data_merged_dep.Total_count)*100\n",
    "\n",
    "print(data_merged_dep)"
   ]
  },
  {
   "cell_type": "code",
   "execution_count": 352,
   "metadata": {},
   "outputs": [
    {
     "data": {
      "image/png": "[encoded data removed]",
      "text/plain": [
       "<Figure size 432x288 with 1 Axes>"
      ]
     },
     "metadata": {
      "needs_background": "light"
     },
     "output_type": "display_data"
    },
    {
     "data": {
      "image/png": "[encoded data removed]",
      "text/plain": [
       "<Figure size 432x288 with 1 Axes>"
      ]
     },
     "metadata": {
      "needs_background": "light"
     },
     "output_type": "display_data"
    }
   ],
   "source": [
    "\n",
    "objects = data_merged_dep.carrier\n",
    "plt.barh(data_merged_dep.carrier, data_merged_dep.Persentage_of_delayed_aircrafts, align='center', alpha=1.0)\n",
    "plt.yticks(data_merged_dep.carrier, objects)\n",
    "plt.xlabel('% of delayed planes')\n",
    "plt.title('% of delayed planes by every company')\n",
    "plt.show()\n",
    "\n",
    "objects = data_merged_arr.carrier\n",
    "plt.barh(data_merged_arr.carrier, filtered_data_arr.Mean_arr, align='center', alpha=0.5)\n",
    "plt.yticks(data_merged_arr.carrier, objects)\n",
    "plt.xlabel('avg delay time at arrival (per min)')\n",
    "plt.title('avg delay time at arrival for every company')\n",
    "plt.show()"
   ]
  },
  {
   "cell_type": "markdown",
   "metadata": {},
   "source": [
    "Таким образом мы видим, что компания FL больше всего задерживает рейсы, однако их рейсы приезжают с опазданием не так часто, как компании OO и HA, несмотря на то что последняя задерживает рейсы меньше всего."
   ]
  }
 ],
 "metadata": {
  "kernelspec": {
   "display_name": "Python 3",
   "language": "python",
   "name": "python3"
  },
  "language_info": {
   "codemirror_mode": {
    "name": "ipython",
    "version": 3
   },
   "file_extension": ".py",
   "mimetype": "text/x-python",
   "name": "python",
   "nbconvert_exporter": "python",
   "pygments_lexer": "ipython3",
   "version": "3.7.0"
  }
 },
 "nbformat": 4,
 "nbformat_minor": 2
}
